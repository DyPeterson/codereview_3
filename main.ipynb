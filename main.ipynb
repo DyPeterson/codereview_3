{
 "cells": [
  {
   "cell_type": "code",
   "execution_count": 5,
   "metadata": {},
   "outputs": [],
   "source": [
    "import pandas as pd\n",
    "from sqlalchemy import MetaData, Table, Column, String, Float, DateTime, create_engine, text\n",
    "# Use SQLAlchemy to create an engine connecting to the Lego database. \n",
    "meta_store = MetaData()\n",
    "\n",
    "connection_method = 'mysql+pymysql'\n",
    "db_usr = 'root'\n",
    "db_pwd =  'mysql'\n",
    "db_host = '127.0.0.1'\n",
    "db_port = '3307' # Default is 3306 for mysql/mariadb, if you ran the scripts in this directory though this should work as is.\n",
    "db_name = 'lego'\n",
    "\n",
    "engine = create_engine(f'{connection_method}://{db_usr}:{db_pwd}@{db_host}:{db_port}/{db_name}')"
   ]
  },
  {
   "cell_type": "code",
   "execution_count": 13,
   "metadata": {},
   "outputs": [
    {
     "name": "stdout",
     "output_type": "stream",
     "text": [
      "Top five:     id          name     rgb  is_trans\n",
      "0   -1       Unknown  0033B2         0\n",
      "1    0         Black  05131D         0\n",
      "2    1          Blue  0055BF         0\n",
      "3   10  Bright Green  4B9F4A         0\n",
      "4  100  Light Salmon  FEBABD         0\n",
      "Bottom five:        id        name     rgb  is_trans\n",
      "130    86  Dark Flesh  7C503A         0\n",
      "131    89  Royal Blue  4C61DB         0\n",
      "132     9  Light Blue  B4D2E3         0\n",
      "133    92       Flesh  D09168         0\n",
      "134  9999  [No Color]  05131D         0\n",
      "Rows & Columns: (135, 4)\n"
     ]
    }
   ],
   "source": [
    "# Read the entire Lego colors table into a DataFrame using read_sql(). Print the DataFrame's head, tail, and shape. \n",
    "with engine.connect() as conn:\n",
    "    lego_df = pd.read_sql('colors', conn)\n",
    "print(lego_df.head())\n",
    "print(lego_df.tail())\n",
    "print(lego_df.shape)"
   ]
  },
  {
   "cell_type": "code",
   "execution_count": 14,
   "metadata": {},
   "outputs": [
    {
     "name": "stdout",
     "output_type": "stream",
     "text": [
      "                       name     rgb    id\n",
      "0                      Blue  0055BF     1\n",
      "1  Glitter Trans-Light Blue  68BCC5  1003\n",
      "2    Trans Light Royal Blue  B4D4F7  1006\n",
      "3               Blue-Violet  6874CA   112\n",
      "4                Metal Blue  7988A1   137\n",
      "                  name     rgb  id\n",
      "14  Trans-Very Lt Blue  C1DFF0  43\n",
      "15         Chrome Blue  6C96BF  61\n",
      "16         Medium Blue  5A93DB  73\n",
      "17          Royal Blue  4C61DB  89\n",
      "18          Light Blue  B4D2E3   9\n",
      "(19, 3)\n"
     ]
    }
   ],
   "source": [
    "# Use the read_sql() method with a SQL statement to query the name, rgb, and id columns for Legos that are blue. Print the DataFrame's head, tail, and shape.\n",
    "colors_query = \"\"\"\n",
    "SELECT\n",
    "\tname,\n",
    "    rgb,\n",
    "    id\n",
    "FROM\n",
    "\tcolors\n",
    "WHERE\n",
    "\tcolors.name REGEXP 'Blue';\n",
    "\"\"\"\n",
    "with engine.connect() as conn:\n",
    "    colors_df = pd.read_sql(text(colors_query), conn)\n",
    "print(colors_df.head())\n",
    "print(colors_df.tail())\n",
    "print(colors_df.shape)\n"
   ]
  },
  {
   "cell_type": "code",
   "execution_count": null,
   "metadata": {},
   "outputs": [],
   "source": []
  }
 ],
 "metadata": {
  "interpreter": {
   "hash": "a8593ae51ea6e191eb5b4aaa44d27bcc402de66b4e1b36196902cc1d238ff9f3"
  },
  "kernelspec": {
   "display_name": "Python 3.7.13 ('venv': venv)",
   "language": "python",
   "name": "python3"
  },
  "language_info": {
   "codemirror_mode": {
    "name": "ipython",
    "version": 3
   },
   "file_extension": ".py",
   "mimetype": "text/x-python",
   "name": "python",
   "nbconvert_exporter": "python",
   "pygments_lexer": "ipython3",
   "version": "3.7.13"
  },
  "orig_nbformat": 4
 },
 "nbformat": 4,
 "nbformat_minor": 2
}
